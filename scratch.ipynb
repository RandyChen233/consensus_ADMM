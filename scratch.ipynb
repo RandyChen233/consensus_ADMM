{
 "cells": [
  {
   "cell_type": "code",
   "execution_count": 1,
   "metadata": {},
   "outputs": [],
   "source": [
    "import numpy as np\n",
    "import util"
   ]
  },
  {
   "cell_type": "code",
   "execution_count": 2,
   "metadata": {},
   "outputs": [],
   "source": [
    "from dynamics import *\n"
   ]
  },
  {
   "cell_type": "code",
   "execution_count": 3,
   "metadata": {},
   "outputs": [],
   "source": [
    "from util import compute_pairwise_distance_nd_Sym"
   ]
  },
  {
   "cell_type": "code",
   "execution_count": 19,
   "metadata": {},
   "outputs": [],
   "source": [
    "n_quads = 3\n",
    "radius=  0.5"
   ]
  },
  {
   "cell_type": "code",
   "execution_count": 20,
   "metadata": {},
   "outputs": [
    {
     "name": "stdout",
     "output_type": "stream",
     "text": [
      "positions retrieved\n",
      "positions retrieved\n"
     ]
    }
   ],
   "source": [
    "x0,xr = util.setup_n_quads_V2(n_quads, 2*radius)"
   ]
  },
  {
   "cell_type": "code",
   "execution_count": 21,
   "metadata": {},
   "outputs": [
    {
     "data": {
      "text/plain": [
       "((36, 1), (36, 1))"
      ]
     },
     "execution_count": 21,
     "metadata": {},
     "output_type": "execute_result"
    }
   ],
   "source": [
    "x0.shape, xr.shape"
   ]
  },
  {
   "cell_type": "code",
   "execution_count": 22,
   "metadata": {},
   "outputs": [],
   "source": [
    "x1 = np.array([[0,0,0,0,0,0, 1,1,1,0,0,0]])\n",
    "dist = compute_pairwise_distance_nd_Sym(x1,[6,6],[3])"
   ]
  },
  {
   "cell_type": "code",
   "execution_count": 23,
   "metadata": {},
   "outputs": [],
   "source": [
    "nu = 4*3"
   ]
  },
  {
   "cell_type": "code",
   "execution_count": 24,
   "metadata": {},
   "outputs": [],
   "source": [
    "x_curr = x0\n",
    "u_curr = np.zeros((nu, 1))"
   ]
  },
  {
   "cell_type": "code",
   "execution_count": 27,
   "metadata": {},
   "outputs": [
    {
     "data": {
      "text/plain": [
       "array([2.49197001, 2.81364247, 1.06386811])"
      ]
     },
     "execution_count": 27,
     "metadata": {},
     "output_type": "execute_result"
    }
   ],
   "source": [
    "util.distance_to_goal(x_curr.flatten(), xr.flatten(), 3, 12)"
   ]
  },
  {
   "cell_type": "code",
   "execution_count": 7,
   "metadata": {},
   "outputs": [
    {
     "data": {
      "text/plain": [
       "[]"
      ]
     },
     "execution_count": 7,
     "metadata": {},
     "output_type": "execute_result"
    }
   ],
   "source": [
    "dist"
   ]
  },
  {
   "cell_type": "code",
   "execution_count": 2,
   "metadata": {},
   "outputs": [],
   "source": [
    "# x0, xr = util.setup_n_quads(100)"
   ]
  },
  {
   "cell_type": "code",
   "execution_count": 16,
   "metadata": {},
   "outputs": [
    {
     "data": {
      "text/plain": [
       "0.6724921125961261"
      ]
     },
     "execution_count": 16,
     "metadata": {},
     "output_type": "execute_result"
    }
   ],
   "source": [
    "util.compute_pairwise_distance(x0,[6]*100,3).min()"
   ]
  },
  {
   "cell_type": "code",
   "execution_count": 17,
   "metadata": {},
   "outputs": [
    {
     "data": {
      "text/plain": [
       "28.129509680658373"
      ]
     },
     "execution_count": 17,
     "metadata": {},
     "output_type": "execute_result"
    }
   ],
   "source": [
    "util.compute_pairwise_distance(x0,[6]*100,3).max()"
   ]
  },
  {
   "cell_type": "code",
   "execution_count": 6,
   "metadata": {},
   "outputs": [],
   "source": [
    "ids = [100+n for n in range(3)]"
   ]
  },
  {
   "cell_type": "code",
   "execution_count": 7,
   "metadata": {},
   "outputs": [],
   "source": [
    "graph = util.define_inter_graph_threshold(x0,0.3,[6,6,6],ids)"
   ]
  },
  {
   "cell_type": "code",
   "execution_count": 8,
   "metadata": {},
   "outputs": [
    {
     "data": {
      "text/plain": [
       "dict_items([(100, [100, 102]), (101, [101, 102]), (102, [100, 101, 102])])"
      ]
     },
     "execution_count": 8,
     "metadata": {},
     "output_type": "execute_result"
    }
   ],
   "source": [
    "graph.items()"
   ]
  },
  {
   "cell_type": "code",
   "execution_count": 13,
   "metadata": {},
   "outputs": [
    {
     "name": "stdout",
     "output_type": "stream",
     "text": [
      "100 0\n",
      "101 0\n",
      "102 2\n"
     ]
    }
   ],
   "source": [
    "for i,j in graph.items():\n",
    "    # print(i,j)\n",
    "    print(i, j.index(i))"
   ]
  },
  {
   "cell_type": "code",
   "execution_count": 4,
   "metadata": {},
   "outputs": [],
   "source": [
    "x_curr = x0"
   ]
  },
  {
   "cell_type": "code",
   "execution_count": 5,
   "metadata": {},
   "outputs": [
    {
     "data": {
      "text/plain": [
       "(18, 1)"
      ]
     },
     "execution_count": 5,
     "metadata": {},
     "output_type": "execute_result"
    }
   ],
   "source": [
    "x0.shape"
   ]
  },
  {
   "cell_type": "code",
   "execution_count": 16,
   "metadata": {},
   "outputs": [],
   "source": [
    "u_curr = np.random.rand(9,1)"
   ]
  },
  {
   "cell_type": "code",
   "execution_count": 25,
   "metadata": {},
   "outputs": [
    {
     "data": {
      "text/plain": [
       "(9, 1)"
      ]
     },
     "execution_count": 25,
     "metadata": {},
     "output_type": "execute_result"
    }
   ],
   "source": [
    "u_curr.shape"
   ]
  },
  {
   "cell_type": "code",
   "execution_count": 29,
   "metadata": {},
   "outputs": [
    {
     "data": {
      "text/plain": [
       "(9, 1)"
      ]
     },
     "execution_count": 29,
     "metadata": {},
     "output_type": "execute_result"
    }
   ],
   "source": [
    "np.zeros((9,1)).shape"
   ]
  },
  {
   "cell_type": "code",
   "execution_count": 17,
   "metadata": {},
   "outputs": [],
   "source": [
    "A,B  = linear_kinodynamics(0.1,3)"
   ]
  },
  {
   "cell_type": "code",
   "execution_count": 18,
   "metadata": {},
   "outputs": [],
   "source": [
    "trj = forward_pass(A,B,10,x_curr,u_curr)"
   ]
  },
  {
   "cell_type": "code",
   "execution_count": 30,
   "metadata": {},
   "outputs": [
    {
     "data": {
      "text/plain": [
       "(18, 11)"
      ]
     },
     "execution_count": 30,
     "metadata": {},
     "output_type": "execute_result"
    }
   ],
   "source": [
    "trj.shape"
   ]
  },
  {
   "cell_type": "code",
   "execution_count": 24,
   "metadata": {},
   "outputs": [
    {
     "data": {
      "text/plain": [
       "array([[5.00000000e-01, 5.00504266e-01, 5.10589596e-01, 5.30255990e-01,\n",
       "        5.59503447e-01, 5.98331967e-01, 6.46741550e-01, 7.04732197e-01,\n",
       "        7.72303908e-01, 8.49456682e-01, 9.36190519e-01],\n",
       "       [1.50000000e+00, 1.50044922e+00, 1.50943355e+00, 1.52695301e+00,\n",
       "        1.55300759e+00, 1.58759729e+00, 1.63072211e+00, 1.68238205e+00,\n",
       "        1.74257711e+00, 1.81130729e+00, 1.88857259e+00],\n",
       "       [1.00000000e+00, 1.00000462e+00, 1.00009706e+00, 1.00027731e+00,\n",
       "        1.00054537e+00, 1.00090124e+00, 1.00134493e+00, 1.00187644e+00,\n",
       "        1.00249575e+00, 1.00320288e+00, 1.00399783e+00],\n",
       "       [0.00000000e+00, 9.58106343e-02, 1.91621269e-01, 2.87431903e-01,\n",
       "        3.83242537e-01, 4.79053171e-01, 5.74863806e-01, 6.70674440e-01,\n",
       "        7.66485074e-01, 8.62295708e-01, 9.58106343e-01],\n",
       "       [0.00000000e+00, 8.53512054e-02, 1.70702411e-01, 2.56053616e-01,\n",
       "        3.41404822e-01, 4.26756027e-01, 5.12107233e-01, 5.97458438e-01,\n",
       "        6.82809643e-01, 7.68160849e-01, 8.53512054e-01],\n",
       "       [0.00000000e+00, 8.78135150e-04, 1.75627030e-03, 2.63440545e-03,\n",
       "        3.51254060e-03, 4.39067575e-03, 5.26881090e-03, 6.14694605e-03,\n",
       "        7.02508120e-03, 7.90321635e-03, 8.78135150e-03]])"
      ]
     },
     "execution_count": 24,
     "metadata": {},
     "output_type": "execute_result"
    }
   ],
   "source": [
    "forward_pass(A[0:6,0:6],B[0:6,0:3],10,x_curr[0:6],u_curr[0:3])"
   ]
  },
  {
   "cell_type": "code",
   "execution_count": 19,
   "metadata": {},
   "outputs": [
    {
     "data": {
      "text/plain": [
       "array([0.5, 1.5, 1. , 0. , 0. , 0. , 2.5, 1.5, 1. , 0. , 0. , 0. , 1.5,\n",
       "       1.3, 1. , 0. , 0. , 0. ])"
      ]
     },
     "execution_count": 19,
     "metadata": {},
     "output_type": "execute_result"
    }
   ],
   "source": [
    "trj[:,0]"
   ]
  },
  {
   "cell_type": "code",
   "execution_count": 20,
   "metadata": {},
   "outputs": [
    {
     "data": {
      "text/plain": [
       "array([5.00504266e-01, 1.50044922e+00, 1.00000462e+00, 9.58106343e-02,\n",
       "       8.53512054e-02, 8.78135150e-04, 2.50028277e+00, 1.50050089e+00,\n",
       "       1.00012996e+00, 5.37272443e-02, 9.51686844e-02, 2.46932765e-02,\n",
       "       1.50008152e+00, 1.30015044e+00, 1.00014940e+00, 1.54879327e-02,\n",
       "       2.85829957e-02, 2.83851275e-02])"
      ]
     },
     "execution_count": 20,
     "metadata": {},
     "output_type": "execute_result"
    }
   ],
   "source": [
    "trj[:,1]"
   ]
  },
  {
   "cell_type": "code",
   "execution_count": 21,
   "metadata": {},
   "outputs": [
    {
     "data": {
      "text/plain": [
       "array([5.10589596e-01, 1.50943355e+00, 1.00009706e+00, 1.91621269e-01,\n",
       "       1.70702411e-01, 1.75627030e-03, 2.50593827e+00, 1.51051864e+00,\n",
       "       1.00272926e+00, 1.07454489e-01, 1.90337369e-01, 4.93865530e-02,\n",
       "       1.50171182e+00, 1.30315917e+00, 1.00313730e+00, 3.09758655e-02,\n",
       "       5.71659914e-02, 5.67702551e-02])"
      ]
     },
     "execution_count": 21,
     "metadata": {},
     "output_type": "execute_result"
    }
   ],
   "source": [
    "trj[:,2]"
   ]
  },
  {
   "cell_type": "code",
   "execution_count": 22,
   "metadata": {},
   "outputs": [
    {
     "data": {
      "text/plain": [
       "array([0.53025599, 1.52695301, 1.00027731, 0.2874319 , 0.25605362,\n",
       "       0.00263441, 2.5169665 , 1.53005327, 1.00779788, 0.16118173,\n",
       "       0.28550605, 0.07407983, 1.50489093, 1.30902621, 1.00896372,\n",
       "       0.0464638 , 0.08574899, 0.08515538])"
      ]
     },
     "execution_count": 22,
     "metadata": {},
     "output_type": "execute_result"
    }
   ],
   "source": [
    "trj[:,3]"
   ]
  },
  {
   "cell_type": "code",
   "execution_count": null,
   "metadata": {},
   "outputs": [],
   "source": []
  }
 ],
 "metadata": {
  "kernelspec": {
   "display_name": "ICON_lab",
   "language": "python",
   "name": "python3"
  },
  "language_info": {
   "codemirror_mode": {
    "name": "ipython",
    "version": 3
   },
   "file_extension": ".py",
   "mimetype": "text/x-python",
   "name": "python",
   "nbconvert_exporter": "python",
   "pygments_lexer": "ipython3",
   "version": "3.10.4"
  }
 },
 "nbformat": 4,
 "nbformat_minor": 2
}
