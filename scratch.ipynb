{
 "cells": [
  {
   "cell_type": "code",
   "execution_count": null,
   "metadata": {},
   "outputs": [],
   "source": [
    "import numpy as np\n",
    "import matplotlib.pyplot as plt\n",
    "from casadi import *\n",
    "import casadi as cs\n",
    "from time import perf_counter\n",
    "import sys\n",
    "\n",
    "import logging\n",
    "from pathlib import Path\n",
    "import multiprocessing as mp\n",
    "from os import getpid\n",
    "import os\n",
    "from time import strftime\n",
    "\n",
    "from dynamics import *\n",
    "import util\n",
    "from admm_mpc import *\n",
    "from mpc import *\n",
    "from logger import *\n",
    "from util import *"
   ]
  },
  {
   "cell_type": "code",
   "execution_count": 1,
   "metadata": {},
   "outputs": [
    {
     "ename": "NameError",
     "evalue": "name 'util' is not defined",
     "output_type": "error",
     "traceback": [
      "\u001b[0;31m---------------------------------------------------------------------------\u001b[0m",
      "\u001b[0;31mNameError\u001b[0m                                 Traceback (most recent call last)",
      "Input \u001b[0;32mIn [1]\u001b[0m, in \u001b[0;36m<cell line: 8>\u001b[0;34m()\u001b[0m\n\u001b[1;32m      9\u001b[0m ids \u001b[38;5;241m=\u001b[39m [\u001b[38;5;241m100\u001b[39m\u001b[38;5;241m+\u001b[39mn \u001b[38;5;28;01mfor\u001b[39;00m n \u001b[38;5;129;01min\u001b[39;00m \u001b[38;5;28mrange\u001b[39m(n_quads)]\n\u001b[1;32m     10\u001b[0m \u001b[38;5;28;01mfor\u001b[39;00m n_trial \u001b[38;5;129;01min\u001b[39;00m n_trials_iters:     \n\u001b[0;32m---> 11\u001b[0m     x0,xr \u001b[38;5;241m=\u001b[39m \u001b[43mutil\u001b[49m\u001b[38;5;241m.\u001b[39msetup_n_quads_V2(n_quads, \u001b[38;5;241m1.5\u001b[39m\u001b[38;5;241m*\u001b[39mradius)\n\u001b[1;32m     12\u001b[0m     \u001b[38;5;66;03m# MPC horizon length:\u001b[39;00m\n\u001b[1;32m     13\u001b[0m     T \u001b[38;5;241m=\u001b[39m \u001b[38;5;241m10\u001b[39m \n",
      "\u001b[0;31mNameError\u001b[0m: name 'util' is not defined"
     ]
    }
   ],
   "source": [
    "radius = 0.3    \n",
    "n_states = 12\n",
    "n_inputs = 4\n",
    "# setup_logger_admm()\n",
    "n_agents =  [3,6,12,24]\n",
    "\n",
    "n_trials_iters = range(0,30)\n",
    "for n_quads in n_agents:\n",
    "    ids = [100+n for n in range(n_quads)]\n",
    "    for n_trial in n_trials_iters:     \n",
    "        x0,xr = util.setup_n_quads_V2(n_quads, 1.5*radius)\n",
    "        # MPC horizon length:\n",
    "        T = 10 \n",
    "        \n",
    "        # Weight matrices in the cost function:\n",
    "        Q = np.eye(n_states*n_quads)*1\n",
    "        for i in range(n_quads):\n",
    "            Q[i*n_states:(i+1)*n_states][0:3] = 5\n",
    "        R = np.eye(n_inputs*n_quads)*0.1\n",
    "        Qf = Q*100\n",
    "        \n",
    "        #Parameters\n",
    "        ADMM_ITER = 100\n",
    "        MPC_ITER = 300\n",
    "        try:\n",
    "            X_full, U_full, mean_time, obj_history = solve_admm_mpc(ids, \n",
    "                n_states, \n",
    "                n_inputs, \n",
    "                n_quads, \n",
    "                x0, \n",
    "                xr, \n",
    "                T, \n",
    "                radius, \n",
    "                Q, \n",
    "                R, Qf, MPC_ITER, ADMM_ITER, convex = False, potential_ADMM = True, n_trial=None)\n",
    "            \n",
    "        except (EOFError, RuntimeError) as e:\n",
    "            continue"
   ]
  }
 ],
 "metadata": {
  "kernelspec": {
   "display_name": "ICON_lab",
   "language": "python",
   "name": "python3"
  },
  "language_info": {
   "codemirror_mode": {
    "name": "ipython",
    "version": 3
   },
   "file_extension": ".py",
   "mimetype": "text/x-python",
   "name": "python",
   "nbconvert_exporter": "python",
   "pygments_lexer": "ipython3",
   "version": "3.10.4"
  }
 },
 "nbformat": 4,
 "nbformat_minor": 2
}
