{
 "cells": [
  {
   "cell_type": "markdown",
   "metadata": {},
   "source": [
    "## Dynamic model"
   ]
  },
  {
   "cell_type": "code",
   "execution_count": 2,
   "metadata": {},
   "outputs": [],
   "source": [
    "import sympy as sym\n",
    "import numpy as np"
   ]
  },
  {
   "cell_type": "markdown",
   "metadata": {},
   "source": [
    "Specify the physical parameters:"
   ]
  },
  {
   "cell_type": "code",
   "execution_count": 3,
   "metadata": {},
   "outputs": [],
   "source": [
    "m = sym.nsimplify(0.5)\n",
    "J1 = sym.nsimplify(0.0023)\n",
    "J2 = sym.nsimplify(0.0023)\n",
    "J3 = sym.nsimplify(0.0040)\n",
    "l = sym.nsimplify(0.175)\n",
    "g = sym.nsimplify(9.81)"
   ]
  },
  {
   "cell_type": "markdown",
   "metadata": {},
   "source": [
    "Derive the equations of motion:"
   ]
  },
  {
   "cell_type": "code",
   "execution_count": 4,
   "metadata": {},
   "outputs": [],
   "source": [
    "# components of position (meters)\n",
    "p_x, p_y, p_z = sym.symbols('p_x, p_y, p_z')\n",
    "\n",
    "# roll, pitch, yaw angles (radians)\n",
    "phi, theta, psi = sym.symbols('phi, theta, psi')\n",
    "\n",
    "# components of linear velocity (meters / second)\n",
    "v_x, v_y, v_z = sym.symbols('v_x, v_y, v_z')\n",
    "\n",
    "# components of angular velocity (radians / second)\n",
    "w_x, w_y, w_z = sym.symbols('w_x, w_y, w_z')\n",
    "\n",
    "# components of net rotor torque\n",
    "tau_x, tau_y, tau_z = sym.symbols('tau_x, tau_y, tau_z')\n",
    "\n",
    "# net rotor force\n",
    "f_z = sym.symbols('f_z')\n",
    "\n",
    "# parameters\n",
    "m = sym.nsimplify(0.5)\n",
    "Jx = sym.nsimplify(0.0023)\n",
    "Jy = sym.nsimplify(0.0023)\n",
    "Jz = sym.nsimplify(0.0040)\n",
    "l = sym.nsimplify(0.175)\n",
    "g = sym.nsimplify(9.81)\n",
    "\n",
    "# rotation matrices (roll-pitch-yaw)\n",
    "Rx = sym.Matrix([[1, 0, 0], [0, sym.cos(phi), -sym.sin(phi)], [0, sym.sin(phi), sym.cos(phi)]])\n",
    "Ry = sym.Matrix([[sym.cos(theta), 0, sym.sin(theta)], [0, 1, 0], [-sym.sin(theta), 0, sym.cos(theta)]])\n",
    "Rz = sym.Matrix([[sym.cos(psi), -sym.sin(psi), 0], [sym.sin(psi), sym.cos(psi), 0], [0, 0, 1]])\n",
    "Rxyz = Rx * Ry * Rz\n",
    "\n",
    "# angular velocity to angular rates\n",
    "ex = sym.Matrix([[1], [0], [0]])\n",
    "ey = sym.Matrix([[0], [1], [0]])\n",
    "ez = sym.Matrix([[0], [0], [1]])\n",
    "M = sym.simplify(sym.Matrix.hstack((Ry * Rz).T * ex, Rz.T * ey, ez).inv(), full=True)\n",
    "\n",
    "# applied forces\n",
    "forces = sym.Matrix([[0], [0], [-m * g]]) + Rxyz * sym.Matrix([[0], [0], [f_z]])\n",
    "\n",
    "# euler's equations\n",
    "euler = sym.Matrix([[(1 / Jx) * (tau_x + (Jy - Jz) * w_y * w_z)],\n",
    "                   [(1 / Jy) * (tau_y + (Jz - Jx) * w_z * w_x)],\n",
    "                   [(1 / Jz) * (tau_z + (Jx - Jy) * w_x * w_y)]])\n",
    "\n",
    "# equations of motion\n",
    "f = sym.Matrix.vstack(sym.Matrix([[v_x], [v_y], [v_z]]),\n",
    "                      M * sym.Matrix([[w_x], [w_y], [w_z]]),\n",
    "                      (1 / m) * forces,\n",
    "                      euler)\n",
    "f = sym.simplify(f, full=True)"
   ]
  },
  {
   "cell_type": "markdown",
   "metadata": {},
   "source": [
    "The equations of motion have this form:\n",
    "\n",
    "$$\\begin{bmatrix} \\dot{p}_x \\\\ \\dot{p}_y \\\\ \\dot{p}_z \\\\ \\dot{\\phi} \\\\ \\dot{\\theta} \\\\ \\dot{\\psi} \\\\ \\dot{v}_x \\\\ \\dot{v}_y \\\\ \\dot{v}_z \\\\ \\dot{w}_x \\\\ \\dot{w}_y \\\\ \\dot{w}_z \\end{bmatrix} = f\\left(p_x, p_y, p_z, \\phi, \\theta, \\psi, v_x, v_y, v_z, w_x, w_y, w_z, \\tau_x, \\tau_y, \\tau_z, f_z \\right)$$\n",
    "\n",
    "Here is the exact function $f$:"
   ]
  },
  {
   "cell_type": "code",
   "execution_count": 7,
   "metadata": {},
   "outputs": [
    {
     "data": {
      "text/latex": [
       "$\\displaystyle \\left[\\begin{matrix}v_{x}\\\\v_{y}\\\\v_{z}\\\\\\frac{w_{x} \\cos{\\left(\\psi \\right)} - w_{y} \\sin{\\left(\\psi \\right)}}{\\cos{\\left(\\theta \\right)}}\\\\w_{x} \\sin{\\left(\\psi \\right)} + w_{y} \\cos{\\left(\\psi \\right)}\\\\- w_{x} \\cos{\\left(\\psi \\right)} \\tan{\\left(\\theta \\right)} + w_{y} \\sin{\\left(\\psi \\right)} \\tan{\\left(\\theta \\right)} + w_{z}\\\\2 f_{z} \\sin{\\left(\\theta \\right)}\\\\- 2 f_{z} \\sin{\\left(\\phi \\right)} \\cos{\\left(\\theta \\right)}\\\\2 f_{z} \\cos{\\left(\\phi \\right)} \\cos{\\left(\\theta \\right)} - \\frac{981}{100}\\\\\\frac{10000 \\tau_{x}}{23} - \\frac{17 w_{y} w_{z}}{23}\\\\\\frac{10000 \\tau_{y}}{23} + \\frac{17 w_{x} w_{z}}{23}\\\\250 \\tau_{z}\\end{matrix}\\right]$"
      ],
      "text/plain": [
       "Matrix([\n",
       "[                                                     v_x],\n",
       "[                                                     v_y],\n",
       "[                                                     v_z],\n",
       "[                (w_x*cos(psi) - w_y*sin(psi))/cos(theta)],\n",
       "[                             w_x*sin(psi) + w_y*cos(psi)],\n",
       "[-w_x*cos(psi)*tan(theta) + w_y*sin(psi)*tan(theta) + w_z],\n",
       "[                                        2*f_z*sin(theta)],\n",
       "[                              -2*f_z*sin(phi)*cos(theta)],\n",
       "[                     2*f_z*cos(phi)*cos(theta) - 981/100],\n",
       "[                          10000*tau_x/23 - 17*w_y*w_z/23],\n",
       "[                          10000*tau_y/23 + 17*w_x*w_z/23],\n",
       "[                                               250*tau_z]])"
      ]
     },
     "execution_count": 7,
     "metadata": {},
     "output_type": "execute_result"
    }
   ],
   "source": [
    "f"
   ]
  },
  {
   "cell_type": "code",
   "execution_count": null,
   "id": "50979190",
   "metadata": {},
   "outputs": [],
   "source": []
  }
 ],
 "metadata": {
  "kernelspec": {
   "display_name": "Python 3",
   "language": "python",
   "name": "python3"
  },
  "language_info": {
   "codemirror_mode": {
    "name": "ipython",
    "version": 3
   },
   "file_extension": ".py",
   "mimetype": "text/x-python",
   "name": "python",
   "nbconvert_exporter": "python",
   "pygments_lexer": "ipython3",
   "version": "3.12.1"
  }
 },
 "nbformat": 4,
 "nbformat_minor": 5
}
