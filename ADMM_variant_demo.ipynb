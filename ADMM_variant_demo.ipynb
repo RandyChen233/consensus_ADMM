{
  "cells": [
    {
      "cell_type": "code",
      "execution_count": 1,
      "metadata": {
        "id": "-l34xq6wi2xr"
      },
      "outputs": [],
      "source": [
        "from cvxpy import *\n",
        "import numpy as np\n",
        "from multiprocessing import Process, Pipe\n",
        "from scipy import sparse\n",
        "import cvxpy as cp"
      ]
    },
    {
      "cell_type": "code",
      "execution_count": 2,
      "metadata": {
        "id": "nyYnVWgAjaBL"
      },
      "outputs": [],
      "source": [
        "# Number of robots.\n",
        "N = 3\n",
        "\n",
        "#Discrete time horizon\n",
        "T = 10\n",
        "\n",
        "# Dimension of the state space (2D pose for each robot :( x, y, theta) ).\n",
        "nx = 6 * N\n",
        "\n",
        "# Dimension of the input space ((v_x, v_y) for each robot)\n",
        "nu = 3 * N\n",
        "\n",
        "# Discrete time model of a double integrator (in R^3)\n",
        "# x:(px,py,pz,vx,vy,vz)\n",
        "# u:(ax,ay,az)\n",
        "h = 0.1 #Discretization interval\n",
        "Ad = sparse.csc_matrix([[1 ,0 ,0, h, 0, 0],\n",
        "                        [0, 1 ,0, 0, h, 0],\n",
        "                        [0, 0, 1, 0, 0, h],\n",
        "                        [0, 0, 0, 1, 0, 0],\n",
        "                        [0, 0, 0, 0, 1, 0],\n",
        "                        [0, 0, 0, 0, 0, 1]])\n",
        "\n",
        "Bd = sparse.csc_matrix([[h**2/2, 0, 0],\n",
        "                        [0,h**2/2, 0],\n",
        "                        [0 , 0, h**2/2],\n",
        "                        [h, 0, 0],\n",
        "                        [0, h, 0],\n",
        "                        [0, 0, h]])\n",
        "\n",
        "# List of all the f_i functions for each robot.\n",
        "f_list = []\n",
        "\n",
        "\n",
        "# Initialize robot positions and goal positions randomly.\n",
        "np.random.seed(0)\n",
        "# robot_positions = np.random.rand(N, 3)  # Random initial positions.\n",
        "goal_state = np.random.rand(N, 6)*2   # Random goal positions.\n",
        "for i in range(goal_state.shape[0]):\n",
        "  goal_state[i][3:] = np.zeros(3)\n",
        "\n",
        "# Formulate the model predictive control problem.\n",
        "objective = 0\n",
        "Q = np.eye(6)\n",
        "R = np.eye(3)*0.1\n",
        "Qf = Q*10\n",
        "f_list = []\n",
        "x0 = np.array([1.5,2.5,1,0,0,0,\n",
        "                   -1.5,1.1,1,0, 0, 0,\n",
        "                   -2.5, 1.5, 1, 0, 0, 0 ])\n",
        "\n",
        "xr = np.array([-1.5,0.5,1,0,0,0,\n",
        "                1.5,-1.1,1,0, 0, 0,\n",
        "              2.5, -1.5, 1, 0, 0, 0 ])\n",
        "\n"
      ]
    },
    {
      "cell_type": "code",
      "execution_count": 3,
      "metadata": {
        "id": "MEdI8V87VLZ4"
      },
      "outputs": [],
      "source": [
        "def distance_to_goal(x,xf,n_agents,n_states):\n",
        "    n_d = 3\n",
        "    return np.linalg.norm((x - xf).reshape(n_agents, n_states)[:, :n_d], axis=1)\n"
      ]
    },
    {
      "cell_type": "code",
      "execution_count": 10,
      "metadata": {
        "id": "wHAYlZbDizeP"
      },
      "outputs": [],
      "source": [
        "# Parameters for the ADMM algorithm.\n",
        "rho = 0.5\n",
        "MAX_ITER = 30\n",
        "r_min = 0.3*2\n",
        "# Parameters for ADMM.\n",
        "# MAX_ITER_ADMM = 15\n",
        "neighbors = [[1,2],[0,2],[0,1]]  # List of neighbor indices for each agent including itself\n",
        "\n",
        "def run_worker(agent_idx, pipe, x_curr):\n",
        "    pk = Parameter((T+1)*nx + T*nu, value=np.zeros(((T+1)*nx + T*nu)))\n",
        "    x_init = Parameter(6 , value = np.zeros(6))\n",
        "    xi = Variable((T+1)*nx + T*nu)\n",
        "    constr = []\n",
        "    constr += [xi[agent_idx*6:(agent_idx+1)*6] ==x_init]\n",
        "    x_init.value = x_curr[agent_idx*6:(agent_idx+1)*6]\n",
        "    objective_i = 0\n",
        "    for t in range(T):\n",
        "      objective_i += quad_form(xi[:(T+1)*nx][t*nx:(t+1)*nx][i*6:(i+1)*6]-xr[agent_idx*6:(agent_idx+1)*6], Q) \\\n",
        "                      + quad_form(xi[(T+1)*nx:][t*nu:(t+1)*nu][i*3:(i+1)*3], R)\n",
        "\n",
        "    objective_i += quad_form(xi[T*nx:(T+1)*nx][i*6:(i+1)*6]-xr[agent_idx*6:(agent_idx+1)*6], Qf)\n",
        "    for k in range(T):\n",
        "      x_next = Ad@xi[:(T+1)*nx][(k)*nx:(k+1)*nx][agent_idx*6:(agent_idx+1)*6] + Bd@xi[(T+1)*nx:][k*nu:(k+1)*nu][agent_idx*3:(agent_idx+1)*3]\n",
        "      constr += [xi[:(T+1)*nx][(k+1)*nx:(k+2)*nx][agent_idx*6:(agent_idx+1)*6] == x_next]\n",
        "      constr += [abs(xi[(T+1)*nx:][(k)*nu:(k+1)*nu][agent_idx*3:(agent_idx+1)*3]) <= np.array([2, 2, 2])]\n",
        "      #Collision avoidance via Buffered Voronoi Cells:\n",
        "      p_i_prev = x_curr[agent_idx*6:(agent_idx+1)*6][:3]\n",
        "      p_i_next = x_next[:3]\n",
        "      for j in range(N):\n",
        "        if j != agent_idx:\n",
        "          # continue\n",
        "          p_j_prev = x_curr[j*6:(j+1)*6][:3]\n",
        "\n",
        "          a_ij  =  (p_i_prev -p_j_prev)/cp.norm(p_i_prev -p_j_prev)\n",
        "          b_ij = a_ij @ (p_i_prev + p_j_prev)/2 + r_min/2\n",
        "          constr += [ (a_ij @ p_i_next) >= b_ij ]\n",
        "\n",
        "    dual_update = 0\n",
        "    while True:\n",
        "        # Primal update\n",
        "        primal_objective = objective_i + pk.T @ xi\n",
        "        x_neighbor = pipe.recv()\n",
        "        for neighbor_i in neighbors[agent_idx]:\n",
        "          for neighbor_j in neighbors[agent_idx]:\n",
        "              if neighbor_j != neighbor_i and neighbor_i < neighbor_j:\n",
        "                # print(neighbor_i, neighbor_j)\n",
        "                primal_objective += rho/2 * sum_squares(xi - (x_neighbor[neighbor_j] + x_neighbor[neighbor_i])/2)\n",
        "\n",
        "        primal_problem = Problem(Minimize(primal_objective),constr)\n",
        "        primal_problem.solve()\n",
        "\n",
        "        pipe.send((xi.value))\n",
        "        # Dual update\n",
        "        for neighbor_idx in neighbors[agent_idx]:\n",
        "            dual_update += (xi.value - x_neighbor[neighbor_idx])\n",
        "        pk.value += rho * dual_update\n"
      ]
    },
    {
      "cell_type": "code",
      "execution_count": 11,
      "metadata": {
        "colab": {
          "base_uri": "https://localhost:8080/",
          "height": 1000
        },
        "id": "92wcIgIoUAfn",
        "outputId": "60b08fc7-0327-438a-bdca-52ac491d2bab"
      },
      "outputs": [
        {
          "name": "stdout",
          "output_type": "stream",
          "text": [
            "Current MPC iteration is 1\n",
            "Current MPC iteration is 2\n",
            "Current MPC iteration is 3\n",
            "Current MPC iteration is 4\n",
            "Current MPC iteration is 5\n",
            "Current MPC iteration is 6\n",
            "Current MPC iteration is 7\n",
            "Current MPC iteration is 8\n",
            "Current MPC iteration is 9\n",
            "Current MPC iteration is 10\n",
            "Current MPC iteration is 11\n",
            "Current MPC iteration is 12\n",
            "Current MPC iteration is 13\n",
            "Current MPC iteration is 14\n",
            "Current MPC iteration is 15\n",
            "Current MPC iteration is 16\n",
            "Current MPC iteration is 17\n",
            "Current MPC iteration is 18\n",
            "Current MPC iteration is 19\n",
            "Current MPC iteration is 20\n",
            "Current MPC iteration is 21\n",
            "Current MPC iteration is 22\n",
            "Current MPC iteration is 23\n",
            "Current MPC iteration is 24\n",
            "Current MPC iteration is 25\n",
            "Current MPC iteration is 26\n",
            "Current MPC iteration is 27\n",
            "Current MPC iteration is 28\n",
            "Current MPC iteration is 29\n",
            "Current MPC iteration is 30\n",
            "Current MPC iteration is 31\n",
            "Current MPC iteration is 32\n",
            "Current MPC iteration is 33\n",
            "Current MPC iteration is 34\n",
            "Current MPC iteration is 35\n",
            "Current MPC iteration is 36\n",
            "Max MPC iters reached!\n"
          ]
        }
      ],
      "source": [
        "## Run in receding-horizon fashion:\n",
        "# Setup the workers.\n",
        "mpc_iter =0\n",
        "x_curr = x0\n",
        "x_dims = [6]*N\n",
        "n_dims = [3]*N\n",
        "primal_err_record = []\n",
        "X_full = np.zeros((0, nx))\n",
        "X_full = np.r_[X_full, x_curr.reshape(1,-1)]\n",
        "while not np.all(distance_to_goal(x_curr,xr,N,6)) <= 0.1:\n",
        "  \n",
        "  pipes = []\n",
        "  procs = []\n",
        "  for i in range(N):\n",
        "      local, remote = Pipe()\n",
        "      pipes += [local]\n",
        "      procs += [Process(target=run_worker, args=(i, remote, x_curr))]\n",
        "      procs[-1].start()\n",
        "\n",
        "  # ADMM loop.\n",
        "  # sol_dict = {}\n",
        "  ## Set up empty lsits for recording the primal feasibility and dual feasibility\n",
        "  # primal_err = []\n",
        "  # dual_err = []\n",
        "  x_neighbor = [np.zeros((T+1)*nx + T*nu) for _ in range(N)]\n",
        "\n",
        "  primal_err = [np.inf]\n",
        "  admm_iter = 0\n",
        "  for _ in range(MAX_ITER):\n",
        "      x_i_local = []\n",
        "      for i, pipe in enumerate(pipes):\n",
        "          pipe.send(x_neighbor)\n",
        "          xi_values = pipe.recv()\n",
        "          x_i_local.append(xi_values)\n",
        "          # sol_dict[\"agent{0}\".format(i)] = xi_values\n",
        "      x_neighbor = x_i_local\n",
        "      err = 0\n",
        "      for i in range(len(x_i_local)):\n",
        "        for j in range(1,len(x_i_local)-1): #Check these indices\n",
        "          err += np.linalg.norm(x_i_local[i]-x_i_local[j])\n",
        "\n",
        "      primal_err.append(err)\n",
        "      admm_iter += 1\n",
        "      if np.abs(primal_err[admm_iter]-primal_err[admm_iter-1]) <= 0.05:\n",
        "        break\n",
        "\n",
        "  [p.terminate() for p in procs]\n",
        "  primal_err_record.append(primal_err)\n",
        "  x_curr = x_i_local[-1][:(T+1)*nx].reshape((T+1,nx))[1,:]\n",
        "  u_curr = x_i_local[-1][(T+1)*nx:].reshape((T,nu))[0,:]\n",
        "  X_full = np.r_[X_full, x_curr.reshape(1,-1)]\n",
        "  mpc_iter += 1\n",
        "  print(f'Current MPC iteration is {mpc_iter}')\n",
        "  if mpc_iter > 35:\n",
        "    print('Max MPC iters reached!')\n",
        "    break\n"
      ]
    },
    {
      "cell_type": "code",
      "execution_count": 15,
      "metadata": {
        "colab": {
          "base_uri": "https://localhost:8080/",
          "height": 466
        },
        "id": "tOJEAxkZuOaw",
        "outputId": "9356b1fe-3fd5-4823-8be3-da6b00344658"
      },
      "outputs": [
        {
          "data": {
            "text/plain": [
              "Text(0.5, 0, 'ADMM Iterations ')"
            ]
          },
          "execution_count": 15,
          "metadata": {},
          "output_type": "execute_result"
        },
        {
          "data": {
            "image/png": "[encoded data removed]",
            "text/plain": [
              "<Figure size 640x480 with 1 Axes>"
            ]
          },
          "metadata": {},
          "output_type": "display_data"
        }
      ],
      "source": [
        "import matplotlib.pyplot as plt\n",
        "plt.figure()\n",
        "plt.plot(primal_err_record[10])\n",
        "plt.ylabel('Aggregated MSE Error Over All ADMM Iterations')\n",
        "plt.xlabel('ADMM Iterations ')"
      ]
    },
    {
      "cell_type": "code",
      "execution_count": null,
      "metadata": {},
      "outputs": [],
      "source": []
    }
  ],
  "metadata": {
    "colab": {
      "provenance": []
    },
    "kernelspec": {
      "display_name": "Python 3",
      "name": "python3"
    },
    "language_info": {
      "codemirror_mode": {
        "name": "ipython",
        "version": 3
      },
      "file_extension": ".py",
      "mimetype": "text/x-python",
      "name": "python",
      "nbconvert_exporter": "python",
      "pygments_lexer": "ipython3",
      "version": "3.10.4"
    }
  },
  "nbformat": 4,
  "nbformat_minor": 0
}
